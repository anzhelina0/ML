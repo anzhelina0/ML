{
 "cells": [
  {
   "cell_type": "code",
   "execution_count": null,
   "id": "f0b33e5d-7427-4eb0-aa62-6b6db97e309f",
   "metadata": {},
   "outputs": [],
   "source": [
    "import torch\n",
    "import torch.nn as nn\n",
    "import torch.optim as optim\n",
    "import torch.nn.functional as F"
   ]
  },
  {
   "cell_type": "code",
   "execution_count": 11,
   "id": "768027bf-aa42-41a7-b86c-bac26bffcda5",
   "metadata": {},
   "outputs": [],
   "source": [
    "class ConvNetV1(nn.Module):\n",
    "    def __init__(self):\n",
    "        super().__init__()\n",
    "        self.conv1 = nn.Conv2d(3, 32, kernel_size=3, padding=1)\n",
    "        self.pool = nn.MaxPool2d(2, 2)\n",
    "        self.conv2 = nn.Conv2d(32, 64, kernel_size=3, padding=1)\n",
    "        self.relu = nn.ReLU()\n",
    "\n",
    "    def forward(self, x):\n",
    "        x = self.conv1(x)\n",
    "        print(f\"После conv1: {x.shape}\")\n",
    "        x = self.relu(x)\n",
    "        x = self.pool(x)\n",
    "        print(f\"После pool1: {x.shape}\")\n",
    " \n",
    "        x = self.conv2(x)\n",
    "        print(f\"После conv2: {x.shape}\")\n",
    "        x = self.relu(x)\n",
    "        return x\n"
   ]
  },
  {
   "cell_type": "code",
   "execution_count": 14,
   "id": "18a96ffb-3bff-42b4-a4f3-11a2a6c4c2c7",
   "metadata": {},
   "outputs": [],
   "source": [
    "class ConvNetV2(nn.Module):\n",
    "    def __init__(self):\n",
    "        super().__init__()\n",
    "        self.conv1 = nn.Conv2d(3, 32, kernel_size=3, padding=1)\n",
    "        self.pool = nn.MaxPool2d(2, 2)\n",
    "        self.conv2 = nn.Conv2d(32, 64, kernel_size=3, padding=0)\n",
    "        self.relu = nn.ReLU()\n",
    "\n",
    "    def forward(self, x):\n",
    "        x = self.conv1(x)\n",
    "        print(f\"После conv1: {x.shape}\")\n",
    "        x = self.relu(x)\n",
    "        x = self.pool(x)\n",
    "        print(f\"После pool: {x.shape}\")\n",
    " \n",
    "        x = self.conv2(x)\n",
    "        print(f\"После conv2: {x.shape}\")\n",
    "        x = self.relu(x)\n",
    "        return x"
   ]
  },
  {
   "cell_type": "code",
   "execution_count": 7,
   "id": "9e7ffea0-61cb-436e-9f8a-5479dd03575b",
   "metadata": {},
   "outputs": [],
   "source": [
    "test_tensor = torch.randn(1, 3, 32, 32)"
   ]
  },
  {
   "cell_type": "code",
   "execution_count": 15,
   "id": "a408158e-b3e6-4ce7-898e-f67a847cdc0c",
   "metadata": {},
   "outputs": [],
   "source": [
    "model_1 = ConvNetV1()\n",
    "model_2 = ConvNetV2()"
   ]
  },
  {
   "cell_type": "code",
   "execution_count": 20,
   "id": "05ceecfd-76be-48f1-ab61-f7f457122cbc",
   "metadata": {},
   "outputs": [
    {
     "name": "stdout",
     "output_type": "stream",
     "text": [
      "После conv1: torch.Size([1, 32, 32, 32])\n",
      "После pool1: torch.Size([1, 32, 16, 16])\n",
      "После conv2: torch.Size([1, 64, 16, 16])\n"
     ]
    }
   ],
   "source": [
    "test_tensor1 = model_1(test_tensor)"
   ]
  },
  {
   "cell_type": "code",
   "execution_count": 21,
   "id": "182264c1-ce3e-4ec8-81ff-434f9011faa8",
   "metadata": {},
   "outputs": [
    {
     "name": "stdout",
     "output_type": "stream",
     "text": [
      "После conv1: torch.Size([1, 32, 32, 32])\n",
      "После pool: torch.Size([1, 32, 16, 16])\n",
      "После conv2: torch.Size([1, 64, 14, 14])\n"
     ]
    }
   ],
   "source": [
    "test_tensor2 = model_2(test_tensor)"
   ]
  },
  {
   "cell_type": "code",
   "execution_count": 23,
   "id": "1e745bad-cd61-4f79-8302-794a57da2027",
   "metadata": {},
   "outputs": [],
   "source": [
    "mean_value1 = test_tensor1.mean().item()\n",
    "mean_value2 = test_tensor2.mean().item()"
   ]
  },
  {
   "cell_type": "code",
   "execution_count": 30,
   "id": "61976a67-c231-406a-94ca-583d9b673992",
   "metadata": {},
   "outputs": [
    {
     "name": "stdout",
     "output_type": "stream",
     "text": [
      "Среднее значение с padding = 1: 0.14437130093574524\n",
      "Среднее значение с padding = 0:  0.19707387685775757\n"
     ]
    }
   ],
   "source": [
    "print(f\"Среднее значение с padding = 1: {mean_value1}\")\n",
    "print(f\"Среднее значение с padding = 0:  {mean_value2}\")"
   ]
  }
 ],
 "metadata": {
  "kernelspec": {
   "display_name": "Python 3 (ipykernel)",
   "language": "python",
   "name": "python3"
  },
  "language_info": {
   "codemirror_mode": {
    "name": "ipython",
    "version": 3
   },
   "file_extension": ".py",
   "mimetype": "text/x-python",
   "name": "python",
   "nbconvert_exporter": "python",
   "pygments_lexer": "ipython3",
   "version": "3.12.7"
  }
 },
 "nbformat": 4,
 "nbformat_minor": 5
}
